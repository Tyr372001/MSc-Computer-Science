{
 "cells": [
  {
   "cell_type": "markdown",
   "id": "87928c6a-0919-45f2-93dc-b69f5cadec6c",
   "metadata": {},
   "source": [
    "# Program for demonstrating eval() function"
   ]
  },
  {
   "cell_type": "code",
   "execution_count": 7,
   "id": "1ea0600d-7a9e-4861-bb65-c6b3d8c882a8",
   "metadata": {},
   "outputs": [
    {
     "name": "stdin",
     "output_type": "stream",
     "text": [
      "Enter Something :  33\n",
      "Enter Something :  12.356\n",
      "Enter Something (String):  hello\n"
     ]
    },
    {
     "name": "stdout",
     "output_type": "stream",
     "text": [
      "<class 'int'>\n",
      "<class 'float'>\n",
      "<class 'str'>\n"
     ]
    }
   ],
   "source": [
    "a = eval(input(\"Enter Something : \"))\n",
    "b = eval(input(\"Enter Something : \"))\n",
    "c = input(\"Enter Something (String): \")\n",
    "\n",
    "print(type(a))\n",
    "print(type(b))\n",
    "print(type(c))"
   ]
  },
  {
   "cell_type": "markdown",
   "id": "1daf2549-cbb9-41a1-8615-87e781b90cab",
   "metadata": {},
   "source": [
    "# Demonstrating the format() fuction"
   ]
  },
  {
   "cell_type": "code",
   "execution_count": 10,
   "id": "cb957381-4b04-4960-bde0-39fb2de7ee69",
   "metadata": {},
   "outputs": [
    {
     "name": "stdout",
     "output_type": "stream",
     "text": [
      "3.14\n"
     ]
    }
   ],
   "source": [
    "print(format(3.142897564, '.2f'))"
   ]
  },
  {
   "cell_type": "markdown",
   "id": "e85aea5a-1d0d-4fc6-8ebd-824709086038",
   "metadata": {},
   "source": [
    "# Arithmatic operator\n",
    "\n",
    "\n",
    "-    '+' (Addition)\n",
    "-    '-' (Substraction)\n",
    "-    '*' (Multiplication)\n",
    "-    '/' (Division)\n",
    "-    '//' (Floor Division)\n",
    "-    '%' (Modulus)\n",
    "-    '**' (Exponent)\n"
   ]
  },
  {
   "cell_type": "markdown",
   "id": "5701ed47-b012-4cec-bcc5-a53683eac717",
   "metadata": {},
   "source": [
    "# Logical Operators\n",
    "\n",
    "There are 3 Logical Operator. They are:\n",
    "\n",
    "+ AND / && \n",
    "+ OR / || \n",
    "+ NOT / !!"
   ]
  },
  {
   "cell_type": "markdown",
   "id": "9afe22fc-9d9e-42cb-9b6c-9e832154b7bf",
   "metadata": {},
   "source": [
    "# Bitwise Operator\n",
    "\n",
    "- Bitswise AND (&)\n",
    "- Bitwise OR (|)\n",
    "- Bitwise NOT (~)\n",
    "- Bitwise XOR (^) Modulo 2 Arithmatic"
   ]
  },
  {
   "cell_type": "markdown",
   "id": "97187196-d3d9-405c-ab16-a3381ed9da88",
   "metadata": {},
   "source": [
    "# Shift Operator\n",
    "\n",
    "\n",
    "## - Right Shift (>>) Operator\n",
    "## $$\\frac{N}{2^{S}}$$\n",
    "\n",
    "## - Left Shift (<<) Operator\n",
    "## $$ N * 2^{S}$$\n",
    "    "
   ]
  },
  {
   "cell_type": "markdown",
   "id": "1959a884-3e56-4a7e-86ee-1611b70108d7",
   "metadata": {},
   "source": [
    "# Operator Precedence & Associativity in Python\n",
    "\n",
    "## Operator Precedence\n",
    "\n",
    "| Operator | Name |\n",
    "|---|---|\n",
    "|$$**$$| Exponent|\n",
    "|+, -, ~| Plus, Minus, Bitwise NOT|\n",
    "|$$+,-$$| Arithmatic Addition, Arithmatic Substraction|\n",
    "|$$<<,>>$$| Left Shift, Right Shift|\n",
    "|$$ \\& $$| Bitwise AND|\n",
    "| ^ | Bitwise XOR|\n",
    "| $$ | $$ | Bitwise OR|\n",
    "|$$ <, >, <=, >= $$ | Conditional|\n",
    "|$$==, !=$$| Equality|\n",
    "|$$=,+=,-=,/=,%= $$| Compound Assignment and Assignment|\n",
    "|is, is not| Identity Operator|\n",
    "|in, not in| membership operator|\n",
    "|$$ \\textbf(AND) $$| Boolean AND|\n",
    "|$$ \\textbf(OR) $$| Boolean OR|\n",
    "|$$ \\textbf(NOT) $$| Boolean NOT|\n",
    "\n",
    "\n"
   ]
  },
  {
   "cell_type": "code",
   "execution_count": null,
   "id": "ba5a77c6-d487-4c17-9ca0-6bbfc2b8f05b",
   "metadata": {},
   "outputs": [],
   "source": []
  }
 ],
 "metadata": {
  "kernelspec": {
   "display_name": "Python 3 (ipykernel)",
   "language": "python",
   "name": "python3"
  },
  "language_info": {
   "codemirror_mode": {
    "name": "ipython",
    "version": 3
   },
   "file_extension": ".py",
   "mimetype": "text/x-python",
   "name": "python",
   "nbconvert_exporter": "python",
   "pygments_lexer": "ipython3",
   "version": "3.11.9"
  }
 },
 "nbformat": 4,
 "nbformat_minor": 5
}
